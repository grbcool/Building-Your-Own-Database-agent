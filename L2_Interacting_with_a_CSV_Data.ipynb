{
 "cells": [
  {
   "cell_type": "markdown",
   "id": "d792f35b",
   "metadata": {},
   "source": [
    "# Lesson 2: Interacting with a CSV Data"
   ]
  },
  {
   "cell_type": "markdown",
   "id": "6be6d049",
   "metadata": {},
   "source": [
    "## Setup and connect to the Azure OpenAI endpoint"
   ]
  },
  {
   "cell_type": "markdown",
   "id": "399c89a2",
   "metadata": {},
   "source": [
    "**Note**: The pre-configured cloud resource grants you access to the Azure OpenAI GPT model. The key and endpoint provided below are intended for teaching purposes only. Your notebook environment is already set up with the necessary keys, which may differ from those used by the instructor during the filming."
   ]
  },
  {
   "cell_type": "code",
   "execution_count": 1,
   "id": "83ac3e59-d0d1-4110-a059-3a55d0d5e15e",
   "metadata": {
    "height": 217
   },
   "outputs": [],
   "source": [
    "import os \n",
    "import pandas as pd\n",
    "\n",
    "from IPython.display import Markdown, HTML, display\n",
    "from langchain.schema import HumanMessage\n",
    "from langchain_openai import AzureChatOpenAI\n",
    "\n",
    "model = AzureChatOpenAI(\n",
    "    openai_api_version=\"2023-05-15\",\n",
    "    azure_deployment=\"gpt-4-1106\",\n",
    "    azure_endpoint=os.getenv(\"AZURE_OPENAI_ENDPOINT\"),\n",
    ")"
   ]
  },
  {
   "cell_type": "markdown",
   "id": "ba9075a3",
   "metadata": {},
   "source": [
    "## Load the dataset"
   ]
  },
  {
   "cell_type": "markdown",
   "id": "fb0dc855",
   "metadata": {},
   "source": [
    "**Note**: To access the data locally, use the following code:\n",
    "\n",
    "```\n",
    "os.makedirs(\"data\",exist_ok=True)\n",
    "!wget https://covidtracking.com/data/download/all-states-history.csv -P ./data/\n",
    "file_url = \"./data/all-states-history.csv\"\n",
    "df = pd.read_csv(file_url).fillna(value = 0)\n",
    "```"
   ]
  },
  {
   "cell_type": "code",
   "execution_count": 2,
   "id": "b6c75799-55e2-4d39-a1ab-7b968b4f35a4",
   "metadata": {
    "height": 30
   },
   "outputs": [],
   "source": [
    "df = pd.read_csv(\"./data/all-states-history.csv\").fillna(value = 0)"
   ]
  },
  {
   "cell_type": "markdown",
   "id": "a6a261ac",
   "metadata": {},
   "source": [
    "## Prepare the Langchain dataframe agent"
   ]
  },
  {
   "cell_type": "code",
   "execution_count": 4,
   "id": "60d0793b-90e7-4e8b-b2f1-66a8d1cf652d",
   "metadata": {
    "height": 115
   },
   "outputs": [
    {
     "name": "stdout",
     "output_type": "stream",
     "text": [
      "\n",
      "\n",
      "\u001b[1m> Entering new AgentExecutor chain...\u001b[0m\n",
      "\u001b[32;1m\u001b[1;3mThought: To find out how many rows are in the dataframe `df`, I can use the `.shape` attribute which returns a tuple with the number of rows and columns.\n",
      "\n",
      "Action: Use the `.shape` attribute on the dataframe `df` to determine the number of rows.\n",
      "Action Input: df.shape\n",
      "\u001b[0m\n",
      "Observation: Use the `.shape` attribute on the dataframe `df` to determine the number of rows. is not a valid tool, try one of [python_repl_ast].\n",
      "Thought:\u001b[32;1m\u001b[1;3mI need to use the python_repl_ast tool to run the Python command `df.shape`.\n",
      "\n",
      "Action: python_repl_ast\n",
      "Action Input: df.shape\u001b[0m\n",
      "Observation: \u001b[36;1m\u001b[1;3m(20780, 41)\u001b[0m\n",
      "Thought:\u001b[32;1m\u001b[1;3mI now know the final answer\n",
      "\n",
      "Final Answer: There are 20,780 rows in the dataframe `df`.\u001b[0m\n",
      "\n",
      "\u001b[1m> Finished chain.\u001b[0m\n"
     ]
    },
    {
     "data": {
      "text/plain": [
       "{'input': 'how many rows are there?',\n",
       " 'output': 'There are 20,780 rows in the dataframe `df`.'}"
      ]
     },
     "execution_count": 4,
     "metadata": {},
     "output_type": "execute_result"
    }
   ],
   "source": [
    "from langchain.agents.agent_types import AgentType\n",
    "from langchain_experimental.agents.agent_toolkits import create_pandas_dataframe_agent\n",
    "\n",
    "agent = create_pandas_dataframe_agent(llm=model,df=df,verbose=True)\n",
    "\n",
    "agent.invoke(\"how many rows are there?\")"
   ]
  },
  {
   "cell_type": "markdown",
   "id": "7c6dedce",
   "metadata": {},
   "source": [
    "## Design your prompt and ask your question"
   ]
  },
  {
   "cell_type": "code",
   "execution_count": 6,
   "id": "0d005008-bad6-4458-90ec-6372d9ebe61c",
   "metadata": {
    "height": 523
   },
   "outputs": [
    {
     "name": "stdout",
     "output_type": "stream",
     "text": [
      "\n",
      "\n",
      "\u001b[1m> Entering new AgentExecutor chain...\u001b[0m\n",
      "\u001b[32;1m\u001b[1;3mThought: Before I can answer the question, I'll need to set the pandas display options to show all columns and then retrieve the column names from the dataframe `df`.\n",
      "\n",
      "Action: python_repl_ast\n",
      "Action Input: pd.set_option('display.max_columns', None)\u001b[0m\n",
      "Observation: \u001b[36;1m\u001b[1;3m\u001b[0m\n",
      "Thought:\u001b[32;1m\u001b[1;3mBefore I can answer the question, I'll need to set the pandas display options to show all columns and then retrieve the column names from the dataframe `df`.\n",
      "\n",
      "Action: python_repl_ast\n",
      "Action Input: pd.set_option('display.max_columns', None)\u001b[0m\n",
      "Observation: \u001b[36;1m\u001b[1;3m\u001b[0m\n",
      "Thought:\u001b[32;1m\u001b[1;3mThe action to set the pandas display options did not produce output as it's a setting change. Now that the display option is set, I should retrieve the column names from the dataframe `df`.\n",
      "\n",
      "Action: python_repl_ast\n",
      "Action Input: df.columns.tolist()\u001b[0m\n",
      "Observation: \u001b[36;1m\u001b[1;3m['date', 'state', 'hospitalized']\u001b[0m\n",
      "Thought:\u001b[32;1m\u001b[1;3mThe column name relevant to the question is 'hospitalized'. However, to answer the question about how many patients were hospitalized during July 2020, I would need to work with the 'date' and 'hospitalized' columns and filter the records from July 2020. Since the provided data is a snapshot of the dataframe and not the full dataframe, I cannot calculate the total hospitalizations directly. I will assume the dataframe has the necessary data and demonstrate how to filter and sum the 'hospitalized' column for July 2020.\n",
      "\n",
      "Action: python_repl_ast\n",
      "Action Input: df[df['date'].str.startswith('2020-07')]['hospitalized'].sum()\u001b[0m\n",
      "Observation: \u001b[36;1m\u001b[1;3mAttributeError: Can only use .str accessor with string values!\u001b[0m\n",
      "Thought:\u001b[32;1m\u001b[1;3mThe error message indicates that the 'date' column is not recognized as a string, which could mean it's in a different format, such as datetime. To handle this, I can convert the 'date' column to a string before applying the string method or use datetime functionality to filter the dataframe. Since the output did not show the data type of the columns, I'll assume the 'date' column is in a datetime format and proceed to filter the dataframe using datetime functionality.\n",
      "\n",
      "Action: python_repl_ast\n",
      "Action Input: df[(df['date'] >= '2020-07-01') & (df['date'] <= '2020-07-31')]['hospitalized'].sum()\u001b[0m\n",
      "Observation: \u001b[36;1m\u001b[1;3m800\u001b[0m\n",
      "Thought:\u001b[32;1m\u001b[1;3mThe result from the previous action indicates that there were 800 hospitalizations recorded in the dataframe for July 2020. However, to ensure the accuracy of this result, I will try another method to verify the sum of hospitalizations in July 2020. This time I will convert the 'date' column to a datetime object (if it's not already), then filter and sum the 'hospitalized' column.\n",
      "\n",
      "Action: python_repl_ast\n",
      "Action Input: df['date'] = pd.to_datetime(df['date'])\n",
      "df[(df['date'].dt.month == 7) & (df['date'].dt.year == 2020)]['hospitalized'].sum()\u001b[0m\n",
      "Observation: \u001b[36;1m\u001b[1;3m800\u001b[0m\n",
      "Thought:\u001b[32;1m\u001b[1;3mBoth methods have given the same result of 800 hospitalizations for July 2020. The first method directly filtered the 'date' column assuming it was in a proper format for comparison with a string, and the second method converted the 'date' column to datetime objects and then filtered based on the year and month attributes. Both methods resulted in a sum of 800, confirming the answer.\n",
      "\n",
      "Final Answer:\n",
      "\n",
      "The number of patients hospitalized during July 2020, as recorded in the dataframe, was 800.\n",
      "\n",
      "Explanation:\n",
      "\n",
      "To determine the number of hospitalizations in July 2020, I used the 'date' and 'hospitalized' columns from the dataframe `df`. I filtered the dataframe for records within the month of July 2020 using two different methods:\n",
      "\n",
      "1. By filtering the 'date' column with string comparison (assuming it's already in a string format that can be compared directly).\n",
      "2. By converting the 'date' column to datetime objects and then filtering based on the month and year attributes.\n",
      "\n",
      "Both methods yielded the same result, and the sum of the 'hospitalized' column for the filtered rows was 800. This confirms that the number of recorded hospitalizations in the dataframe for July 2020 was 800.\u001b[0m\n",
      "\n",
      "\u001b[1m> Finished chain.\u001b[0m\n"
     ]
    },
    {
     "data": {
      "text/plain": [
       "{'input': '\\nFirst set the pandas display options to show all the columns,\\nget the column names, then answer the question.\\nHow may patients were hospitalized during July 2020\\n- **ALWAYS** before giving the Final Answer, try another method.\\nThen reflect on the answers of the two methods you did and ask yourself\\nif it answers correctly the original question.\\nIf you are not sure, try another method.\\n- If the methods tried do not give the same result,reflect and\\ntry again until you have two methods that have the same result.\\n- If you still cannot arrive to a consistent result, say that\\nyou are not sure of the answer.\\n- If you are sure of the correct answer, create a beautiful\\nand thorough response using Markdown.\\n- **DO NOT MAKE UP AN ANSWER OR USE PRIOR KNOWLEDGE,\\nONLY USE THE RESULTS OF THE CALCULATIONS YOU HAVE DONE**.\\n- **ALWAYS**, as part of your \"Final Answer\", explain how you got\\nto the answer on a section that starts with: \"\\n\\nExplanation:\\n\".\\nIn the explanation, mention the column names that you used to get\\nto the final answer.\\n',\n",
       " 'output': \"The number of patients hospitalized during July 2020, as recorded in the dataframe, was 800.\\n\\nExplanation:\\n\\nTo determine the number of hospitalizations in July 2020, I used the 'date' and 'hospitalized' columns from the dataframe `df`. I filtered the dataframe for records within the month of July 2020 using two different methods:\\n\\n1. By filtering the 'date' column with string comparison (assuming it's already in a string format that can be compared directly).\\n2. By converting the 'date' column to datetime objects and then filtering based on the month and year attributes.\\n\\nBoth methods yielded the same result, and the sum of the 'hospitalized' column for the filtered rows was 800. This confirms that the number of recorded hospitalizations in the dataframe for July 2020 was 800.\"}"
      ]
     },
     "execution_count": 6,
     "metadata": {},
     "output_type": "execute_result"
    }
   ],
   "source": [
    "CSV_PROMPT_PREFIX = \"\"\"\n",
    "First set the pandas display options to show all the columns,\n",
    "get the column names, then answer the question.\n",
    "\"\"\"\n",
    "\n",
    "CSV_PROMPT_SUFFIX = \"\"\"\n",
    "- **ALWAYS** before giving the Final Answer, try another method.\n",
    "Then reflect on the answers of the two methods you did and ask yourself\n",
    "if it answers correctly the original question.\n",
    "If you are not sure, try another method.\n",
    "- If the methods tried do not give the same result,reflect and\n",
    "try again until you have two methods that have the same result.\n",
    "- If you still cannot arrive to a consistent result, say that\n",
    "you are not sure of the answer.\n",
    "- If you are sure of the correct answer, create a beautiful\n",
    "and thorough response using Markdown.\n",
    "- **DO NOT MAKE UP AN ANSWER OR USE PRIOR KNOWLEDGE,\n",
    "ONLY USE THE RESULTS OF THE CALCULATIONS YOU HAVE DONE**.\n",
    "- **ALWAYS**, as part of your \"Final Answer\", explain how you got\n",
    "to the answer on a section that starts with: \"\\n\\nExplanation:\\n\".\n",
    "In the explanation, mention the column names that you used to get\n",
    "to the final answer.\n",
    "\"\"\"\n",
    "\n",
    "QUESTION = \"How may patients were hospitalized during July 2020\" \n",
    "\"in Texas, and nationwide as the total of all states?\"\n",
    "\"Use the hospitalizedIncrease column\" \n",
    "\n",
    "\n",
    "agent.invoke(CSV_PROMPT_PREFIX + QUESTION + CSV_PROMPT_SUFFIX)"
   ]
  }
 ],
 "metadata": {
  "kernelspec": {
   "display_name": "Python 3 (ipykernel)",
   "language": "python",
   "name": "python3"
  },
  "language_info": {
   "codemirror_mode": {
    "name": "ipython",
    "version": 3
   },
   "file_extension": ".py",
   "mimetype": "text/x-python",
   "name": "python",
   "nbconvert_exporter": "python",
   "pygments_lexer": "ipython3",
   "version": "3.11.9"
  }
 },
 "nbformat": 4,
 "nbformat_minor": 5
}
